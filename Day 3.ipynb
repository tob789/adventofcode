{
 "cells": [
  {
   "cell_type": "code",
   "execution_count": 1,
   "metadata": {
    "collapsed": true
   },
   "outputs": [],
   "source": [
    "def spiral(N):\n",
    "    \n",
    "    x, x_min, x_max = 0, 0, 0\n",
    "    y, y_min, y_max = 0, 0, 0\n",
    "    i = 0\n",
    "    direction = 'right'\n",
    "\n",
    "    while True:\n",
    "        i += 1\n",
    "        if i >= N:\n",
    "            break\n",
    "\n",
    "        if direction == 'right':\n",
    "            x += 1\n",
    "            if x > x_max:\n",
    "                direction = 'up'\n",
    "                x_max = x\n",
    "            continue\n",
    "        \n",
    "        if direction == 'up':\n",
    "            y += 1\n",
    "            if y > y_max:\n",
    "                direction = 'left'\n",
    "                y_max = y\n",
    "            continue\n",
    "                \n",
    "        if direction == 'left':\n",
    "            x -= 1\n",
    "            if x < x_min:\n",
    "                direction = 'down'\n",
    "                x_min = x\n",
    "            continue\n",
    "                \n",
    "        if direction == 'down':\n",
    "            y -= 1\n",
    "            if y < y_min:\n",
    "                direction = 'right'\n",
    "                y_min = y\n",
    "            continue\n",
    "    \n",
    "    print (i, x, y)\n",
    "    return (abs(x) + abs(y))\n",
    "\n",
    "\n"
   ]
  },
  {
   "cell_type": "code",
   "execution_count": 2,
   "metadata": {},
   "outputs": [
    {
     "name": "stdout",
     "output_type": "stream",
     "text": [
      "368078 -68 -303\n"
     ]
    },
    {
     "data": {
      "text/plain": [
       "371"
      ]
     },
     "execution_count": 2,
     "metadata": {},
     "output_type": "execute_result"
    }
   ],
   "source": [
    "spiral(368078)"
   ]
  },
  {
   "cell_type": "code",
   "execution_count": 3,
   "metadata": {},
   "outputs": [],
   "source": [
    "def spiral_sum(N):\n",
    "    \n",
    "    x, x_min, x_max = 0, 0, 0\n",
    "    y, y_min, y_max = 0, 0, 0\n",
    "    i = 0\n",
    "    n = 0\n",
    "    d = {(0, 0): 1}\n",
    "    direction = 'right'\n",
    "\n",
    "    while True:\n",
    "        i += 1\n",
    "        n = 0\n",
    "            \n",
    "        for x_step in [-1, 0, 1]:\n",
    "                for y_step in [-1, 0, 1]:\n",
    "                    n += d.get((x + x_step, y + y_step), 0)\n",
    "                        \n",
    "        d[(x, y)] = n\n",
    "        if n > N:\n",
    "            break\n",
    "        \n",
    "        if direction == 'right':\n",
    "            x += 1\n",
    "            if x > x_max:\n",
    "                direction = 'up'\n",
    "                x_max = x\n",
    "            continue\n",
    "        \n",
    "        if direction == 'up':\n",
    "            y += 1\n",
    "            if y > y_max:\n",
    "                direction = 'left'\n",
    "                y_max = y\n",
    "            continue\n",
    "                \n",
    "        if direction == 'left':\n",
    "            x -= 1\n",
    "            if x < x_min:\n",
    "                direction = 'down'\n",
    "                x_min = x\n",
    "            continue\n",
    "                \n",
    "        if direction == 'down':\n",
    "            y -= 1\n",
    "            if y < y_min:\n",
    "                direction = 'right'\n",
    "                y_min = y\n",
    "            continue\n",
    "    \n",
    "    print (i, (x, y), n)\n",
    "    return n\n",
    "\n"
   ]
  },
  {
   "cell_type": "code",
   "execution_count": 4,
   "metadata": {},
   "outputs": [
    {
     "name": "stdout",
     "output_type": "stream",
     "text": [
      "65 (-4, 4) 369601\n"
     ]
    },
    {
     "data": {
      "text/plain": [
       "369601"
      ]
     },
     "execution_count": 4,
     "metadata": {},
     "output_type": "execute_result"
    }
   ],
   "source": [
    "spiral_sum(368078)"
   ]
  }
 ],
 "metadata": {
  "kernelspec": {
   "display_name": "Python 3",
   "language": "python",
   "name": "python3"
  },
  "language_info": {
   "codemirror_mode": {
    "name": "ipython",
    "version": 3
   },
   "file_extension": ".py",
   "mimetype": "text/x-python",
   "name": "python",
   "nbconvert_exporter": "python",
   "pygments_lexer": "ipython3",
   "version": "3.6.3"
  }
 },
 "nbformat": 4,
 "nbformat_minor": 2
}
